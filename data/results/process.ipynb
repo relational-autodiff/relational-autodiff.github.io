{
 "cells": [
  {
   "cell_type": "code",
   "execution_count": 5,
   "metadata": {},
   "outputs": [],
   "source": [
    "import os\n",
    "import json"
   ]
  },
  {
   "cell_type": "markdown",
   "metadata": {},
   "source": [
    "## Initiate data_setting.js"
   ]
  },
  {
   "cell_type": "code",
   "execution_count": 6,
   "metadata": {},
   "outputs": [],
   "source": [
    "# list all directories in the current folder\n",
    "models = [d for d in os.listdir() if os.path.isdir(d)]\n",
    "d = {e:e for e in models}\n",
    "s = 'name_to_folder_map = ' + json.dumps(d, indent=2)\n",
    "with open('data_setting.js', 'w+') as f:\n",
    "    f.write(s)"
   ]
  },
  {
   "cell_type": "markdown",
   "metadata": {},
   "source": [
    "## create a data.js file for the explorer"
   ]
  },
  {
   "cell_type": "code",
   "execution_count": 7,
   "metadata": {},
   "outputs": [],
   "source": [
    "# models = [d for d in os.listdir() if os.path.isdir(d)]\n",
    "for model in models:\n",
    "    files = os.listdir(f'./{model}')\n",
    "    file = [f for f in files if f.startswith(\"output\")][0]\n",
    "    with open(os.path.join(model, file), 'r') as f:\n",
    "        obj = json.load(f)\n",
    "    keys_needed = ['response']\n",
    "    new_obj = {}\n",
    "    for i in range(1, 1001):\n",
    "        if str(i) not in obj: continue\n",
    "        new_obj[str(i)] = {k:v for k,v in obj[str(i)].items() if k in keys_needed}\n",
    "\n",
    "    outstr = f\"cache['{model}'] = {json.dumps(new_obj, indent=2)}\"\n",
    "    with open(os.path.join(model, 'data.js'), 'w') as f:\n",
    "        f.write(outstr)\n"
   ]
  },
  {
   "cell_type": "markdown",
   "metadata": {},
   "source": [
    "## create a score.js file for the leaderboard"
   ]
  },
  {
   "cell_type": "code",
   "execution_count": 8,
   "metadata": {},
   "outputs": [],
   "source": [
    "def extract_import_values(obj):\n",
    "    out = {}\n",
    "    out['Model'] = \"\"               # We need Model to be the first column\n",
    "    out['ALL'] = obj['average']['accuracy']\n",
    "    out['FQA'] = obj['task']['figure question answering']['accuracy']\n",
    "    out['GPS'] = obj['task']['geometry problem solving']['accuracy']\n",
    "    out['MWP'] = obj['task']['math word problem']['accuracy']\n",
    "    out['TQA'] = obj['task']['textbook question answering']['accuracy']\n",
    "    out['ALG'] = obj['skills']['algebraic reasoning']['accuracy']\n",
    "    out['ARI'] = obj['skills']['arithmetic reasoning']['accuracy']\n",
    "    out['GEO'] = obj['skills']['geometry reasoning']['accuracy']\n",
    "    out['LOG'] = obj['skills']['logical reasoning']['accuracy']\n",
    "    out['NUM'] = obj['skills']['numeric commonsense']['accuracy']\n",
    "    out['SCI'] = obj['skills']['scientific reasoning']['accuracy']\n",
    "    out['STA'] = obj['skills']['statistical reasoning']['accuracy']\n",
    "    return out\n",
    "\n",
    "\n",
    "models = [d for d in os.listdir() if os.path.isdir(d)]\n",
    "ls = []\n",
    "for model in models:\n",
    "    files = os.listdir(f'./{model}')\n",
    "    file = [f for f in files if f.startswith(\"scores_\")][0]\n",
    "    with open(os.path.join(model, file), 'r') as f:\n",
    "        obj = json.load(f)\n",
    "    out = extract_import_values(obj)\n",
    "    out['Model'] = model\n",
    "    ls.append(out)\n",
    "\n",
    "# print to file\n",
    "with open('model_scores.js', 'w+') as f:\n",
    "    f.write(\"score_table = \" + str(ls))"
   ]
  }
 ],
 "metadata": {
  "kernelspec": {
   "display_name": "Python 3",
   "language": "python",
   "name": "python3"
  },
  "language_info": {
   "codemirror_mode": {
    "name": "ipython",
    "version": 3
   },
   "file_extension": ".py",
   "mimetype": "text/x-python",
   "name": "python",
   "nbconvert_exporter": "python",
   "pygments_lexer": "ipython3",
   "version": "3.9.1rc1"
  },
  "orig_nbformat": 4
 },
 "nbformat": 4,
 "nbformat_minor": 2
}
